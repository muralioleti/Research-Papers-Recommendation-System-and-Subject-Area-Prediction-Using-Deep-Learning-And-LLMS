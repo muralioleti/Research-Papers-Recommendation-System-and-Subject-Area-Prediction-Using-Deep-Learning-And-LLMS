{
  "nbformat": 4,
  "nbformat_minor": 0,
  "metadata": {
    "colab": {
      "provenance": [],
      "gpuType": "V28",
      "authorship_tag": "ABX9TyMDzw6/4ufTwn7hf8Qt5KH7"
    },
    "kernelspec": {
      "name": "python3",
      "display_name": "Python 3"
    },
    "language_info": {
      "name": "python"
    },
    "accelerator": "TPU"
  },
  "cells": [
    {
      "cell_type": "code",
      "execution_count": 2,
      "metadata": {
        "colab": {
          "base_uri": "https://localhost:8080/"
        },
        "id": "M_ie76n4IqUM",
        "outputId": "ead37002-5aef-4b36-c359-92645a4ce140"
      },
      "outputs": [
        {
          "output_type": "stream",
          "name": "stdout",
          "text": [
            "Mounted at /content/drive\n"
          ]
        }
      ],
      "source": [
        "from google.colab import drive\n",
        "drive.mount('/content/drive')"
      ]
    },
    {
      "cell_type": "markdown",
      "source": [
        "Import Libraries"
      ],
      "metadata": {
        "id": "fnDjECRoKkC5"
      }
    },
    {
      "cell_type": "code",
      "source": [
        "from tensorflow.keras import layers\n",
        "from tensorflow import keras\n",
        "import tensorflow as tf\n",
        "\n",
        "from sklearn.model_selection import train_test_split\n",
        "\n",
        "from ast import literal_eval\n",
        "# is used for safely evaluating strings containing Python literals or container displays\n",
        "# (e.g., lists, dictionaries) to their corresponding Python objects.\n",
        "\n",
        "import matplotlib.pyplot as plt\n",
        "import pandas as pd\n",
        "import numpy as np"
      ],
      "metadata": {
        "id": "fWXqG-JlKmVW"
      },
      "execution_count": 3,
      "outputs": []
    },
    {
      "cell_type": "markdown",
      "source": [
        "Load the Dataset"
      ],
      "metadata": {
        "id": "2EWpS6i5KqOE"
      }
    },
    {
      "cell_type": "code",
      "source": [
        "arxiv_data = pd.read_csv(\"/content/drive/MyDrive/RESEARCH - LSTM/file location lstm/arxiv_data.csv\")"
      ],
      "metadata": {
        "id": "6N4XPESeKqEJ"
      },
      "execution_count": 63,
      "outputs": []
    },
    {
      "cell_type": "code",
      "source": [
        "arxiv_data.head()"
      ],
      "metadata": {
        "colab": {
          "base_uri": "https://localhost:8080/",
          "height": 206
        },
        "id": "JfMQDznCK3M4",
        "outputId": "648fd429-08d2-4ee4-bbc7-06369b28399d"
      },
      "execution_count": 64,
      "outputs": [
        {
          "output_type": "execute_result",
          "data": {
            "text/plain": [
              "                                              titles  \\\n",
              "0  Survey on Semantic Stereo Matching / Semantic ...   \n",
              "1  FUTURE-AI: Guiding Principles and Consensus Re...   \n",
              "2  Enforcing Mutual Consistency of Hard Regions f...   \n",
              "3  Parameter Decoupling Strategy for Semi-supervi...   \n",
              "4  Background-Foreground Segmentation for Interio...   \n",
              "\n",
              "                                           abstracts  \\\n",
              "0  Stereo matching is one of the widely used tech...   \n",
              "1  The recent advancements in artificial intellig...   \n",
              "2  In this paper, we proposed a novel mutual cons...   \n",
              "3  Consistency training has proven to be an advan...   \n",
              "4  To ensure safety in automated driving, the cor...   \n",
              "\n",
              "                         terms  \n",
              "0           ['cs.CV', 'cs.LG']  \n",
              "1  ['cs.CV', 'cs.AI', 'cs.LG']  \n",
              "2           ['cs.CV', 'cs.AI']  \n",
              "3                    ['cs.CV']  \n",
              "4           ['cs.CV', 'cs.LG']  "
            ],
            "text/html": [
              "\n",
              "  <div id=\"df-4c2d4c7a-f96d-4271-92dd-cc776d06d4de\" class=\"colab-df-container\">\n",
              "    <div>\n",
              "<style scoped>\n",
              "    .dataframe tbody tr th:only-of-type {\n",
              "        vertical-align: middle;\n",
              "    }\n",
              "\n",
              "    .dataframe tbody tr th {\n",
              "        vertical-align: top;\n",
              "    }\n",
              "\n",
              "    .dataframe thead th {\n",
              "        text-align: right;\n",
              "    }\n",
              "</style>\n",
              "<table border=\"1\" class=\"dataframe\">\n",
              "  <thead>\n",
              "    <tr style=\"text-align: right;\">\n",
              "      <th></th>\n",
              "      <th>titles</th>\n",
              "      <th>abstracts</th>\n",
              "      <th>terms</th>\n",
              "    </tr>\n",
              "  </thead>\n",
              "  <tbody>\n",
              "    <tr>\n",
              "      <th>0</th>\n",
              "      <td>Survey on Semantic Stereo Matching / Semantic ...</td>\n",
              "      <td>Stereo matching is one of the widely used tech...</td>\n",
              "      <td>['cs.CV', 'cs.LG']</td>\n",
              "    </tr>\n",
              "    <tr>\n",
              "      <th>1</th>\n",
              "      <td>FUTURE-AI: Guiding Principles and Consensus Re...</td>\n",
              "      <td>The recent advancements in artificial intellig...</td>\n",
              "      <td>['cs.CV', 'cs.AI', 'cs.LG']</td>\n",
              "    </tr>\n",
              "    <tr>\n",
              "      <th>2</th>\n",
              "      <td>Enforcing Mutual Consistency of Hard Regions f...</td>\n",
              "      <td>In this paper, we proposed a novel mutual cons...</td>\n",
              "      <td>['cs.CV', 'cs.AI']</td>\n",
              "    </tr>\n",
              "    <tr>\n",
              "      <th>3</th>\n",
              "      <td>Parameter Decoupling Strategy for Semi-supervi...</td>\n",
              "      <td>Consistency training has proven to be an advan...</td>\n",
              "      <td>['cs.CV']</td>\n",
              "    </tr>\n",
              "    <tr>\n",
              "      <th>4</th>\n",
              "      <td>Background-Foreground Segmentation for Interio...</td>\n",
              "      <td>To ensure safety in automated driving, the cor...</td>\n",
              "      <td>['cs.CV', 'cs.LG']</td>\n",
              "    </tr>\n",
              "  </tbody>\n",
              "</table>\n",
              "</div>\n",
              "    <div class=\"colab-df-buttons\">\n",
              "\n",
              "  <div class=\"colab-df-container\">\n",
              "    <button class=\"colab-df-convert\" onclick=\"convertToInteractive('df-4c2d4c7a-f96d-4271-92dd-cc776d06d4de')\"\n",
              "            title=\"Convert this dataframe to an interactive table.\"\n",
              "            style=\"display:none;\">\n",
              "\n",
              "  <svg xmlns=\"http://www.w3.org/2000/svg\" height=\"24px\" viewBox=\"0 -960 960 960\">\n",
              "    <path d=\"M120-120v-720h720v720H120Zm60-500h600v-160H180v160Zm220 220h160v-160H400v160Zm0 220h160v-160H400v160ZM180-400h160v-160H180v160Zm440 0h160v-160H620v160ZM180-180h160v-160H180v160Zm440 0h160v-160H620v160Z\"/>\n",
              "  </svg>\n",
              "    </button>\n",
              "\n",
              "  <style>\n",
              "    .colab-df-container {\n",
              "      display:flex;\n",
              "      gap: 12px;\n",
              "    }\n",
              "\n",
              "    .colab-df-convert {\n",
              "      background-color: #E8F0FE;\n",
              "      border: none;\n",
              "      border-radius: 50%;\n",
              "      cursor: pointer;\n",
              "      display: none;\n",
              "      fill: #1967D2;\n",
              "      height: 32px;\n",
              "      padding: 0 0 0 0;\n",
              "      width: 32px;\n",
              "    }\n",
              "\n",
              "    .colab-df-convert:hover {\n",
              "      background-color: #E2EBFA;\n",
              "      box-shadow: 0px 1px 2px rgba(60, 64, 67, 0.3), 0px 1px 3px 1px rgba(60, 64, 67, 0.15);\n",
              "      fill: #174EA6;\n",
              "    }\n",
              "\n",
              "    .colab-df-buttons div {\n",
              "      margin-bottom: 4px;\n",
              "    }\n",
              "\n",
              "    [theme=dark] .colab-df-convert {\n",
              "      background-color: #3B4455;\n",
              "      fill: #D2E3FC;\n",
              "    }\n",
              "\n",
              "    [theme=dark] .colab-df-convert:hover {\n",
              "      background-color: #434B5C;\n",
              "      box-shadow: 0px 1px 3px 1px rgba(0, 0, 0, 0.15);\n",
              "      filter: drop-shadow(0px 1px 2px rgba(0, 0, 0, 0.3));\n",
              "      fill: #FFFFFF;\n",
              "    }\n",
              "  </style>\n",
              "\n",
              "    <script>\n",
              "      const buttonEl =\n",
              "        document.querySelector('#df-4c2d4c7a-f96d-4271-92dd-cc776d06d4de button.colab-df-convert');\n",
              "      buttonEl.style.display =\n",
              "        google.colab.kernel.accessAllowed ? 'block' : 'none';\n",
              "\n",
              "      async function convertToInteractive(key) {\n",
              "        const element = document.querySelector('#df-4c2d4c7a-f96d-4271-92dd-cc776d06d4de');\n",
              "        const dataTable =\n",
              "          await google.colab.kernel.invokeFunction('convertToInteractive',\n",
              "                                                    [key], {});\n",
              "        if (!dataTable) return;\n",
              "\n",
              "        const docLinkHtml = 'Like what you see? Visit the ' +\n",
              "          '<a target=\"_blank\" href=https://colab.research.google.com/notebooks/data_table.ipynb>data table notebook</a>'\n",
              "          + ' to learn more about interactive tables.';\n",
              "        element.innerHTML = '';\n",
              "        dataTable['output_type'] = 'display_data';\n",
              "        await google.colab.output.renderOutput(dataTable, element);\n",
              "        const docLink = document.createElement('div');\n",
              "        docLink.innerHTML = docLinkHtml;\n",
              "        element.appendChild(docLink);\n",
              "      }\n",
              "    </script>\n",
              "  </div>\n",
              "\n",
              "\n",
              "<div id=\"df-dbf3a3d1-c390-4efb-bb6e-07f30e3483c6\">\n",
              "  <button class=\"colab-df-quickchart\" onclick=\"quickchart('df-dbf3a3d1-c390-4efb-bb6e-07f30e3483c6')\"\n",
              "            title=\"Suggest charts\"\n",
              "            style=\"display:none;\">\n",
              "\n",
              "<svg xmlns=\"http://www.w3.org/2000/svg\" height=\"24px\"viewBox=\"0 0 24 24\"\n",
              "     width=\"24px\">\n",
              "    <g>\n",
              "        <path d=\"M19 3H5c-1.1 0-2 .9-2 2v14c0 1.1.9 2 2 2h14c1.1 0 2-.9 2-2V5c0-1.1-.9-2-2-2zM9 17H7v-7h2v7zm4 0h-2V7h2v10zm4 0h-2v-4h2v4z\"/>\n",
              "    </g>\n",
              "</svg>\n",
              "  </button>\n",
              "\n",
              "<style>\n",
              "  .colab-df-quickchart {\n",
              "      --bg-color: #E8F0FE;\n",
              "      --fill-color: #1967D2;\n",
              "      --hover-bg-color: #E2EBFA;\n",
              "      --hover-fill-color: #174EA6;\n",
              "      --disabled-fill-color: #AAA;\n",
              "      --disabled-bg-color: #DDD;\n",
              "  }\n",
              "\n",
              "  [theme=dark] .colab-df-quickchart {\n",
              "      --bg-color: #3B4455;\n",
              "      --fill-color: #D2E3FC;\n",
              "      --hover-bg-color: #434B5C;\n",
              "      --hover-fill-color: #FFFFFF;\n",
              "      --disabled-bg-color: #3B4455;\n",
              "      --disabled-fill-color: #666;\n",
              "  }\n",
              "\n",
              "  .colab-df-quickchart {\n",
              "    background-color: var(--bg-color);\n",
              "    border: none;\n",
              "    border-radius: 50%;\n",
              "    cursor: pointer;\n",
              "    display: none;\n",
              "    fill: var(--fill-color);\n",
              "    height: 32px;\n",
              "    padding: 0;\n",
              "    width: 32px;\n",
              "  }\n",
              "\n",
              "  .colab-df-quickchart:hover {\n",
              "    background-color: var(--hover-bg-color);\n",
              "    box-shadow: 0 1px 2px rgba(60, 64, 67, 0.3), 0 1px 3px 1px rgba(60, 64, 67, 0.15);\n",
              "    fill: var(--button-hover-fill-color);\n",
              "  }\n",
              "\n",
              "  .colab-df-quickchart-complete:disabled,\n",
              "  .colab-df-quickchart-complete:disabled:hover {\n",
              "    background-color: var(--disabled-bg-color);\n",
              "    fill: var(--disabled-fill-color);\n",
              "    box-shadow: none;\n",
              "  }\n",
              "\n",
              "  .colab-df-spinner {\n",
              "    border: 2px solid var(--fill-color);\n",
              "    border-color: transparent;\n",
              "    border-bottom-color: var(--fill-color);\n",
              "    animation:\n",
              "      spin 1s steps(1) infinite;\n",
              "  }\n",
              "\n",
              "  @keyframes spin {\n",
              "    0% {\n",
              "      border-color: transparent;\n",
              "      border-bottom-color: var(--fill-color);\n",
              "      border-left-color: var(--fill-color);\n",
              "    }\n",
              "    20% {\n",
              "      border-color: transparent;\n",
              "      border-left-color: var(--fill-color);\n",
              "      border-top-color: var(--fill-color);\n",
              "    }\n",
              "    30% {\n",
              "      border-color: transparent;\n",
              "      border-left-color: var(--fill-color);\n",
              "      border-top-color: var(--fill-color);\n",
              "      border-right-color: var(--fill-color);\n",
              "    }\n",
              "    40% {\n",
              "      border-color: transparent;\n",
              "      border-right-color: var(--fill-color);\n",
              "      border-top-color: var(--fill-color);\n",
              "    }\n",
              "    60% {\n",
              "      border-color: transparent;\n",
              "      border-right-color: var(--fill-color);\n",
              "    }\n",
              "    80% {\n",
              "      border-color: transparent;\n",
              "      border-right-color: var(--fill-color);\n",
              "      border-bottom-color: var(--fill-color);\n",
              "    }\n",
              "    90% {\n",
              "      border-color: transparent;\n",
              "      border-bottom-color: var(--fill-color);\n",
              "    }\n",
              "  }\n",
              "</style>\n",
              "\n",
              "  <script>\n",
              "    async function quickchart(key) {\n",
              "      const quickchartButtonEl =\n",
              "        document.querySelector('#' + key + ' button');\n",
              "      quickchartButtonEl.disabled = true;  // To prevent multiple clicks.\n",
              "      quickchartButtonEl.classList.add('colab-df-spinner');\n",
              "      try {\n",
              "        const charts = await google.colab.kernel.invokeFunction(\n",
              "            'suggestCharts', [key], {});\n",
              "      } catch (error) {\n",
              "        console.error('Error during call to suggestCharts:', error);\n",
              "      }\n",
              "      quickchartButtonEl.classList.remove('colab-df-spinner');\n",
              "      quickchartButtonEl.classList.add('colab-df-quickchart-complete');\n",
              "    }\n",
              "    (() => {\n",
              "      let quickchartButtonEl =\n",
              "        document.querySelector('#df-dbf3a3d1-c390-4efb-bb6e-07f30e3483c6 button');\n",
              "      quickchartButtonEl.style.display =\n",
              "        google.colab.kernel.accessAllowed ? 'block' : 'none';\n",
              "    })();\n",
              "  </script>\n",
              "</div>\n",
              "\n",
              "    </div>\n",
              "  </div>\n"
            ],
            "application/vnd.google.colaboratory.intrinsic+json": {
              "type": "dataframe",
              "variable_name": "arxiv_data",
              "summary": "{\n  \"name\": \"arxiv_data\",\n  \"rows\": 51774,\n  \"fields\": [\n    {\n      \"column\": \"titles\",\n      \"properties\": {\n        \"dtype\": \"string\",\n        \"num_unique_values\": 38972,\n        \"samples\": [\n          \"Sum-Product-Transform Networks: Exploiting Symmetries using Invertible Transformations\",\n          \"A Primal-Dual Subgradient Approachfor Fair Meta Learning\",\n          \"Adversarial Multi-Source Transfer Learning in Healthcare: Application to Glucose Prediction for Diabetic People\"\n        ],\n        \"semantic_type\": \"\",\n        \"description\": \"\"\n      }\n    },\n    {\n      \"column\": \"abstracts\",\n      \"properties\": {\n        \"dtype\": \"string\",\n        \"num_unique_values\": 38979,\n        \"samples\": [\n          \"Continual learning (CL) is a setting in which an agent has to learn from an\\nincoming stream of data during its entire lifetime. Although major advances\\nhave been made in the field, one recurring problem which remains unsolved is\\nthat of Catastrophic Forgetting (CF). While the issue has been extensively\\nstudied empirically, little attention has been paid from a theoretical angle.\\nIn this paper, we show that the impact of CF increases as two tasks\\nincreasingly align. We introduce a measure of task similarity called the NTK\\noverlap matrix which is at the core of CF. We analyze common projected gradient\\nalgorithms and demonstrate how they mitigate forgetting. Then, we propose a\\nvariant of Orthogonal Gradient Descent (OGD) which leverages structure of the\\ndata through Principal Component Analysis (PCA). Experiments support our\\ntheoretical findings and show how our method can help reduce CF on classical CL\\ndatasets.\",\n          \"Few-shot learning is a challenging task since only few instances are given\\nfor recognizing an unseen class. One way to alleviate this problem is to\\nacquire a strong inductive bias via meta-learning on similar tasks. In this\\npaper, we show that such inductive bias can be learned from a flat collection\\nof unlabeled images, and instantiated as transferable representations among\\nseen and unseen classes. Specifically, we propose a novel part-based\\nself-supervised representation learning scheme to learn transferable\\nrepresentations by maximizing the similarity of an image to its discriminative\\npart. To mitigate the overfitting in few-shot classification caused by data\\nscarcity, we further propose a part augmentation strategy by retrieving extra\\nimages from a base dataset. We conduct systematic studies on miniImageNet and\\ntieredImageNet benchmarks. Remarkably, our method yields impressive results,\\noutperforming the previous best unsupervised methods by 7.74% and 9.24% under\\n5-way 1-shot and 5-way 5-shot settings, which are comparable with\\nstate-of-the-art supervised methods.\",\n          \"Surgical instrument segmentation is extremely important for computer-assisted\\nsurgery. Different from common object segmentation, it is more challenging due\\nto the large illumination and scale variation caused by the special surgical\\nscenes. In this paper, we propose a novel bilinear attention network with\\nadaptive receptive field to solve these two challenges. For the illumination\\nvariation, the bilinear attention module can capture second-order statistics to\\nencode global contexts and semantic dependencies between local pixels. With\\nthem, semantic features in challenging areas can be inferred from their\\nneighbors and the distinction of various semantics can be boosted. For the\\nscale variation, our adaptive receptive field module aggregates multi-scale\\nfeatures and automatically fuses them with different weights. Specifically, it\\nencodes the semantic relationship between channels to emphasize feature maps\\nwith appropriate scales, changing the receptive field of subsequent\\nconvolutions. The proposed network achieves the best performance 97.47% mean\\nIOU on Cata7 and comes first place on EndoVis 2017 by 10.10% IOU overtaking\\nsecond-ranking method.\"\n        ],\n        \"semantic_type\": \"\",\n        \"description\": \"\"\n      }\n    },\n    {\n      \"column\": \"terms\",\n      \"properties\": {\n        \"dtype\": \"category\",\n        \"num_unique_values\": 3157,\n        \"samples\": [\n          \"['cs.LG', 'cs.CE', 'q-fin.ST', 'stat.ML']\",\n          \"['cs.LG', 'physics.comp-ph', 'physics.flu-dyn']\",\n          \"['cs.LG', 'cs.CV', 'math.AT']\"\n        ],\n        \"semantic_type\": \"\",\n        \"description\": \"\"\n      }\n    }\n  ]\n}"
            }
          },
          "metadata": {},
          "execution_count": 64
        }
      ]
    },
    {
      "cell_type": "markdown",
      "source": [
        "Data Cleaning and Preprocessing"
      ],
      "metadata": {
        "id": "ysWitAaPK5-7"
      }
    },
    {
      "cell_type": "code",
      "source": [
        "arxiv_data.shape"
      ],
      "metadata": {
        "colab": {
          "base_uri": "https://localhost:8080/"
        },
        "id": "x2nvELqVK51d",
        "outputId": "f3ae88f9-7600-4e64-af2f-0dc1848223e1"
      },
      "execution_count": 65,
      "outputs": [
        {
          "output_type": "execute_result",
          "data": {
            "text/plain": [
              "(51774, 3)"
            ]
          },
          "metadata": {},
          "execution_count": 65
        }
      ]
    },
    {
      "cell_type": "code",
      "source": [
        "arxiv_data.isnull().sum()"
      ],
      "metadata": {
        "colab": {
          "base_uri": "https://localhost:8080/",
          "height": 178
        },
        "id": "64Y8op-hK-zT",
        "outputId": "fb667f4c-3cbe-450a-eaa5-28cfe138dcc7"
      },
      "execution_count": 66,
      "outputs": [
        {
          "output_type": "execute_result",
          "data": {
            "text/plain": [
              "titles       0\n",
              "abstracts    0\n",
              "terms        0\n",
              "dtype: int64"
            ],
            "text/html": [
              "<div>\n",
              "<style scoped>\n",
              "    .dataframe tbody tr th:only-of-type {\n",
              "        vertical-align: middle;\n",
              "    }\n",
              "\n",
              "    .dataframe tbody tr th {\n",
              "        vertical-align: top;\n",
              "    }\n",
              "\n",
              "    .dataframe thead th {\n",
              "        text-align: right;\n",
              "    }\n",
              "</style>\n",
              "<table border=\"1\" class=\"dataframe\">\n",
              "  <thead>\n",
              "    <tr style=\"text-align: right;\">\n",
              "      <th></th>\n",
              "      <th>0</th>\n",
              "    </tr>\n",
              "  </thead>\n",
              "  <tbody>\n",
              "    <tr>\n",
              "      <th>titles</th>\n",
              "      <td>0</td>\n",
              "    </tr>\n",
              "    <tr>\n",
              "      <th>abstracts</th>\n",
              "      <td>0</td>\n",
              "    </tr>\n",
              "    <tr>\n",
              "      <th>terms</th>\n",
              "      <td>0</td>\n",
              "    </tr>\n",
              "  </tbody>\n",
              "</table>\n",
              "</div><br><label><b>dtype:</b> int64</label>"
            ]
          },
          "metadata": {},
          "execution_count": 66
        }
      ]
    },
    {
      "cell_type": "code",
      "source": [
        "arxiv_data.duplicated().sum()"
      ],
      "metadata": {
        "colab": {
          "base_uri": "https://localhost:8080/"
        },
        "id": "2qH5Uu7VLCbr",
        "outputId": "40c64ed0-d89e-4d42-cc1f-9d0a01da63a6"
      },
      "execution_count": 67,
      "outputs": [
        {
          "output_type": "execute_result",
          "data": {
            "text/plain": [
              "12783"
            ]
          },
          "metadata": {},
          "execution_count": 67
        }
      ]
    },
    {
      "cell_type": "code",
      "source": [
        "from ast import literal_eval\n",
        "\n",
        "# getting unique labels\n",
        "def safe_literal_eval(x):\n",
        "    try:\n",
        "        return literal_eval(x)\n",
        "    except (ValueError, SyntaxError):\n",
        "        return []  # Return an empty list if literal_eval fails\n",
        "\n",
        "labels_column = arxiv_data['terms'].apply(safe_literal_eval) # Apply the safe_literal_eval function\n",
        "labels = labels_column.explode().unique()\n",
        "print(\"labels :\", labels)\n",
        "print(\"lenght :\", len(labels))"
      ],
      "metadata": {
        "colab": {
          "base_uri": "https://localhost:8080/"
        },
        "id": "PK6OTSMDLEj2",
        "outputId": "ebb5a0c4-de72-44aa-865b-eddac9497e13"
      },
      "execution_count": 68,
      "outputs": [
        {
          "output_type": "stream",
          "name": "stdout",
          "text": [
            "labels : ['cs.CV' 'cs.LG' 'cs.AI' ... 'I.2.6; I.5.1; G.3'\n",
            " '92E10, 46M20, 94A08, 68U10, 44A12, 55R35' '92E10']\n",
            "lenght : 1099\n"
          ]
        }
      ]
    },
    {
      "cell_type": "code",
      "source": [
        "# remove duplicate entries based on the \"titles\" (terms) column\n",
        "# This filters the DataFrame, keeping only the rows where the titles are not duplicated.\n",
        "arxiv_data = arxiv_data[~arxiv_data['titles'].duplicated()]\n",
        "print(f\"There are {len(arxiv_data)} rows in the deduplicated dataset.\")\n",
        "# There are some terms with occurrence as low as 1.\n",
        "print(sum(arxiv_data['terms'].value_counts()==1))\n",
        "# how many unique terms\n",
        "print(arxiv_data['terms'].nunique())"
      ],
      "metadata": {
        "colab": {
          "base_uri": "https://localhost:8080/"
        },
        "id": "ZBQ6hDRILIBa",
        "outputId": "528670a8-933a-4724-f0a7-515cb4ca5810"
      },
      "execution_count": 69,
      "outputs": [
        {
          "output_type": "stream",
          "name": "stdout",
          "text": [
            "There are 38972 rows in the deduplicated dataset.\n",
            "2321\n",
            "3157\n"
          ]
        }
      ]
    },
    {
      "cell_type": "code",
      "source": [
        "# Filtering the rare terms. (it keeps only those rows where the \"terms\" value occurs more than once in the original DataFrame.)\n",
        "arxiv_data_filtered = arxiv_data.groupby('terms').filter(lambda x: len(x) > 1)\n",
        "arxiv_data_filtered.shape"
      ],
      "metadata": {
        "colab": {
          "base_uri": "https://localhost:8080/"
        },
        "id": "veNKcaHTLKFD",
        "outputId": "bd1f0134-9650-47f3-d232-2f4c1dd5516f"
      },
      "execution_count": 70,
      "outputs": [
        {
          "output_type": "execute_result",
          "data": {
            "text/plain": [
              "(36651, 3)"
            ]
          },
          "metadata": {},
          "execution_count": 70
        }
      ]
    },
    {
      "cell_type": "code",
      "source": [
        "# It evaluates the given string containing a Python literal or container display (e.g., a list or dictionary) and returns the corresponding Python object.\n",
        "arxiv_data_filtered['terms'] = arxiv_data_filtered['terms'].apply(lambda x: literal_eval(x))\n",
        "arxiv_data_filtered['terms'].values[:3]"
      ],
      "metadata": {
        "colab": {
          "base_uri": "https://localhost:8080/"
        },
        "id": "XizpbKsfLMjD",
        "outputId": "2f9e2057-9b79-4367-b3e2-ab3aca9bb308"
      },
      "execution_count": 71,
      "outputs": [
        {
          "output_type": "execute_result",
          "data": {
            "text/plain": [
              "array([list(['cs.CV', 'cs.LG']), list(['cs.CV', 'cs.AI', 'cs.LG']),\n",
              "       list(['cs.CV', 'cs.AI'])], dtype=object)"
            ]
          },
          "metadata": {},
          "execution_count": 71
        }
      ]
    },
    {
      "cell_type": "markdown",
      "source": [
        "Train-Test Split"
      ],
      "metadata": {
        "id": "s5Yhk7hQLQNm"
      }
    },
    {
      "cell_type": "code",
      "source": [
        "test_split = 0.1\n",
        "\n",
        "# Initial train and test split.\n",
        "# The stratify parameter ensures that the splitting is done in a way that preserves the same distribution of labels (terms) in both the training and test sets.\n",
        "train_df, test_df = train_test_split(arxiv_data_filtered,test_size=test_split,stratify=arxiv_data_filtered[\"terms\"].values,)\n",
        "\n",
        "# Splitting the test set further into validation\n",
        "# and new test sets.\n",
        "val_df = test_df.sample(frac=0.5)\n",
        "test_df.drop(val_df.index, inplace=True)\n",
        "\n",
        "print(f\"Number of rows in training set: {len(train_df)}\")\n",
        "print(f\"Number of rows in validation set: {len(val_df)}\")\n",
        "print(f\"Number of rows in test set: {len(test_df)}\")"
      ],
      "metadata": {
        "colab": {
          "base_uri": "https://localhost:8080/"
        },
        "id": "1INwHXQjLQF7",
        "outputId": "dfde957a-2b93-494b-8217-afefe88ccfed"
      },
      "execution_count": 72,
      "outputs": [
        {
          "output_type": "stream",
          "name": "stdout",
          "text": [
            "Number of rows in training set: 32985\n",
            "Number of rows in validation set: 1833\n",
            "Number of rows in test set: 1833\n"
          ]
        }
      ]
    },
    {
      "cell_type": "code",
      "source": [
        "# creates a TensorFlow RaggedTensor (terms) from the values in the \"terms\" column of the train_df DataFrame. A RaggedTensor is a tensor with non-uniform shapes\n",
        "terms = tf.ragged.constant(train_df['terms'].values)\n",
        "# This line creates a StringLookup layer in TensorFlow. The purpose of this layer is to map strings to integer indices and vice versa. The output_mode=\"multi_hot\" indicates that the layer will output a multi-hot encoded representation of the input strings.\n",
        "lookup = tf.keras.layers.StringLookup(output_mode='multi_hot')\n",
        "# This step adapts the StringLookup layer to the unique values in the \"terms\" column, building the vocabulary.\n",
        "lookup.adapt(terms)\n",
        "# retrieve vocabulary\n",
        "vocab = lookup.get_vocabulary()\n",
        "\n",
        "print(\"Vocabulary:\\n\")\n",
        "print(vocab)"
      ],
      "metadata": {
        "colab": {
          "base_uri": "https://localhost:8080/"
        },
        "id": "ANddKVhaLT20",
        "outputId": "ebd7384f-fbec-4860-d8a2-1b88107d63bc"
      },
      "execution_count": 73,
      "outputs": [
        {
          "output_type": "stream",
          "name": "stdout",
          "text": [
            "Vocabulary:\n",
            "\n",
            "['[UNK]', 'cs.CV', 'cs.LG', 'stat.ML', 'cs.AI', 'eess.IV', 'cs.RO', 'cs.CL', 'cs.NE', 'cs.CR', 'math.OC', 'eess.SP', 'cs.GR', 'cs.SI', 'cs.MM', 'cs.SY', 'cs.IR', 'cs.MA', 'eess.SY', 'cs.HC', 'math.IT', 'cs.IT', 'cs.DC', 'cs.CY', 'stat.AP', 'stat.TH', 'math.ST', 'stat.ME', 'eess.AS', 'cs.SD', 'q-bio.QM', 'q-bio.NC', 'cs.DS', 'cs.GT', 'cs.CG', 'cs.SE', 'cs.NI', 'I.2.6', 'stat.CO', 'math.NA', 'cs.NA', 'physics.chem-ph', 'cs.DB', 'q-bio.BM', 'cs.LO', 'cond-mat.dis-nn', '68T45', 'math.PR', 'cs.PL', 'physics.comp-ph', 'cs.CE', 'cs.AR', 'I.2.10', 'q-fin.ST', 'cond-mat.stat-mech', '68T05', 'quant-ph', 'math.DS', 'cs.CC', 'physics.data-an', 'I.4.6', 'physics.soc-ph', 'physics.ao-ph', 'econ.EM', 'cs.DM', 'q-bio.GN', 'physics.med-ph', 'cs.PF', 'astro-ph.IM', 'I.4.8', 'math.AT', 'cs.FL', 'I.4', 'q-fin.TR', 'I.5.4', 'I.2', '68U10', 'physics.optics', 'hep-ex', '68T10', 'physics.geo-ph', 'cond-mat.mtrl-sci', 'q-fin.CP', 'physics.flu-dyn', 'math.CO', 'math.AP', 'I.4; I.5', 'I.4.9', 'I.2.6; I.2.8', 'I.2.10; I.4; I.5', '68T01', '65D19', 'nlin.CD', 'cs.MS', 'I.2.6; I.5.1', 'I.2.0; I.2.6', '68T07', 'q-fin.GN', 'cs.SC', 'cs.ET', 'K.3.2', 'I.2.8', 'I.2.10; I.4.8', '68U01', '68T30', 'q-fin.EC', 'q-bio.MN', 'econ.GN', 'I.4.9; I.5.4', 'I.4.5', 'I.2; I.5', 'I.2; I.4; I.5', 'I.2.6; I.2.7', '68T99', '68Q32', '68', '62H30', 'q-fin.RM', 'q-fin.PM', 'q-bio.TO', 'q-bio.OT', 'physics.bio-ph', 'nlin.AO', 'math.LO', 'math.FA', 'hep-ph', 'cond-mat.soft', 'I.4.6; I.4.8', 'I.4.4', 'I.4.3', 'I.4.0', 'I.2; J.2', 'I.2; I.2.6; I.2.7', 'I.2.7', 'I.2.6; I.5.4', 'I.2.6; I.2.9', 'I.2.6; I.2.7; H.3.1; H.3.3', 'I.2.6; I.2.10', 'I.2.6, I.5.4', 'I.2.1; J.3', 'I.2.10; I.5.1; I.4.8', 'I.2.10; I.4.8; I.5.4', 'I.2.10; I.2.6', 'I.2.1', 'H.3.1; I.2.6; I.2.7', 'H.3.1; H.3.3; I.2.6; I.2.7', 'G.3', 'F.2.2; I.2.7', 'E.5; E.4; E.2; H.1.1; F.1.1; F.1.3', '68Txx', '62H99', '62H35', '14J60 (Primary) 14F05, 14J26 (Secondary)']\n"
          ]
        }
      ]
    },
    {
      "cell_type": "code",
      "source": [
        "sample_label = train_df[\"terms\"].iloc[0]\n",
        "print(f\"Original label: {sample_label}\")\n",
        "\n",
        "label_binarized = lookup([sample_label])\n",
        "print(f\"Label-binarized representation: {label_binarized}\")"
      ],
      "metadata": {
        "colab": {
          "base_uri": "https://localhost:8080/"
        },
        "id": "pCGJ8d8XLWTP",
        "outputId": "c39d4170-a8a0-4b5a-e146-21870818c8f3"
      },
      "execution_count": 74,
      "outputs": [
        {
          "output_type": "stream",
          "name": "stdout",
          "text": [
            "Original label: ['cs.LG', 'cs.CV', 'stat.ML']\n",
            "Label-binarized representation: [[0. 1. 1. 1. 0. 0. 0. 0. 0. 0. 0. 0. 0. 0. 0. 0. 0. 0. 0. 0. 0. 0. 0. 0.\n",
            "  0. 0. 0. 0. 0. 0. 0. 0. 0. 0. 0. 0. 0. 0. 0. 0. 0. 0. 0. 0. 0. 0. 0. 0.\n",
            "  0. 0. 0. 0. 0. 0. 0. 0. 0. 0. 0. 0. 0. 0. 0. 0. 0. 0. 0. 0. 0. 0. 0. 0.\n",
            "  0. 0. 0. 0. 0. 0. 0. 0. 0. 0. 0. 0. 0. 0. 0. 0. 0. 0. 0. 0. 0. 0. 0. 0.\n",
            "  0. 0. 0. 0. 0. 0. 0. 0. 0. 0. 0. 0. 0. 0. 0. 0. 0. 0. 0. 0. 0. 0. 0. 0.\n",
            "  0. 0. 0. 0. 0. 0. 0. 0. 0. 0. 0. 0. 0. 0. 0. 0. 0. 0. 0. 0. 0. 0. 0. 0.\n",
            "  0. 0. 0. 0. 0. 0. 0. 0. 0.]]\n"
          ]
        }
      ]
    },
    {
      "cell_type": "code",
      "source": [
        "# following lines::\n",
        "# which is used for automatic adjustment of resource usage by TensorFlow's data loading pipeline.\n",
        "\n",
        "#max_seqlen: Maximum sequence length. It indicates the maximum length allowed for sequences.\n",
        "max_seqlen = 150\n",
        "#batch_size: Batch size. It specifies the number of samples to use in each iteration.\n",
        "batch_size = 128\n",
        "#padding_token: A token used for padding sequences.\n",
        "padding_token = \"<pad>\"\n",
        "#auto = tf.data.AUTOTUNE: auto is assigned the value tf.data.AUTOTUNE,\n",
        "auto = tf.data.AUTOTUNE\n",
        "\n",
        "def make_dataset(dataframe, is_train=True):\n",
        "    # creating sequences of labesls\n",
        "    labels = tf.ragged.constant(dataframe[\"terms\"].values)\n",
        "    #This line uses the previously defined lookup layer to convert the ragged tensor of labels into a binarized representation. The resulting label_binarized is a NumPy array.\n",
        "    label_binarized = lookup(labels).numpy()\n",
        "    # creating sequences of text.\n",
        "    dataset = tf.data.Dataset.from_tensor_slices((dataframe[\"abstracts\"].values, label_binarized))\n",
        "    # shuffling data basis on condition\n",
        "    dataset = dataset.shuffle(batch_size * 10) if is_train else dataset\n",
        "    return dataset.batch(batch_size)\n",
        "\n",
        "\"\"\"\n",
        "In summary, the make_dataset function is designed to create a\n",
        "dataset suitable for training a model. It takes a dataframe as input,\n",
        "assumes it has \"abstracts\" and \"terms\" columns, and creates a dataset of\n",
        "batches where each batch consists of abstract\n",
        "sequences and their corresponding binarized label sequences.\n",
        "\"\"\""
      ],
      "metadata": {
        "colab": {
          "base_uri": "https://localhost:8080/",
          "height": 53
        },
        "id": "ovChh93ELZ4-",
        "outputId": "8be7ffd8-0d50-406d-8000-9ea254f3d0f5"
      },
      "execution_count": 75,
      "outputs": [
        {
          "output_type": "execute_result",
          "data": {
            "text/plain": [
              "'\\nIn summary, the make_dataset function is designed to create a \\ndataset suitable for training a model. It takes a dataframe as input, \\nassumes it has \"abstracts\" and \"terms\" columns, and creates a dataset of \\nbatches where each batch consists of abstract \\nsequences and their corresponding binarized label sequences. \\n'"
            ],
            "application/vnd.google.colaboratory.intrinsic+json": {
              "type": "string"
            }
          },
          "metadata": {},
          "execution_count": 75
        }
      ]
    },
    {
      "cell_type": "code",
      "source": [
        "train_dataset = make_dataset(train_df, is_train=True)\n",
        "validation_dataset = make_dataset(val_df, is_train=False)\n",
        "test_dataset = make_dataset(test_df, is_train=False)"
      ],
      "metadata": {
        "id": "EkTEoNoGLbdj"
      },
      "execution_count": 76,
      "outputs": []
    },
    {
      "cell_type": "code",
      "source": [
        "# This function converts the multi-hot encoded labels back to their text representation\n",
        "def invert_multi_hot(encoded_labels):\n",
        "    \"\"\"Reverse a multi-hot encoding to a list of strings.\"\"\"\n",
        "    # Get the indices where the encoded_labels are 1\n",
        "    indices = tf.where(encoded_labels == 1).numpy().flatten()\n",
        "    # Get the corresponding vocabulary terms using the indices\n",
        "    return [vocab[index] for index in indices if index > 0]\n",
        "\n",
        "# The rest of your code\n",
        "text_batch, label_batch = next(iter(train_dataset))\n",
        "for i, text in enumerate(text_batch[:5]):\n",
        "    label = label_batch[i].numpy()[None, ...]\n",
        "    print(f\"Abstract: {text}\")\n",
        "    print(f\"Label(s): {invert_multi_hot(label[0])}\")\n",
        "    print(\" \")"
      ],
      "metadata": {
        "colab": {
          "base_uri": "https://localhost:8080/"
        },
        "id": "6kRi5KeqLd4l",
        "outputId": "38ccfcf2-eff9-4f84-f87d-095cc7269277"
      },
      "execution_count": 77,
      "outputs": [
        {
          "output_type": "stream",
          "name": "stdout",
          "text": [
            "Abstract: b'Modelers use automatic differentiation (AD) of computation graphs to\\nimplement complex Deep Learning models without defining gradient computations.\\nStochastic AD extends AD to stochastic computation graphs with sampling steps,\\nwhich arise when modelers handle the intractable expectations common in\\nReinforcement Learning and Variational Inference. However, current methods for\\nstochastic AD are limited: They are either only applicable to continuous random\\nvariables and differentiable functions, or can only use simple but high\\nvariance score-function estimators. To overcome these limitations, we introduce\\nStorchastic, a new framework for AD of stochastic computation graphs.\\nStorchastic allows the modeler to choose from a wide variety of gradient\\nestimation methods at each sampling step, to optimally reduce the variance of\\nthe gradient estimates. Furthermore, Storchastic is provably unbiased for\\nestimation of any-order gradients, and generalizes variance reduction\\ntechniques to higher-order gradient estimates. Finally, we implement\\nStorchastic as a PyTorch library.'\n",
            "Label(s): ['cs.LG', 'stat.ML', 'cs.AI']\n",
            " \n",
            "Abstract: b'Multi-variate time series (MTS) data is a ubiquitous class of data\\nabstraction in the real world. Any instance of MTS is generated from a hybrid\\ndynamical system and their specific dynamics are usually unknown. The hybrid\\nnature of such a dynamical system is a result of complex external attributes,\\nsuch as geographic location and time of day, each of which can be categorized\\ninto either spatial attributes or temporal attributes. Therefore, there are two\\nfundamental views which can be used to analyze MTS data, namely the spatial\\nview and the temporal view. Moreover, from each of these two views, we can\\npartition the set of data samples of MTS into disjoint forecasting tasks in\\naccordance with their associated attribute values. Then, samples of the same\\ntask will manifest similar forthcoming pattern, which is less sophisticated to\\nbe predicted in comparison with the original single-view setting. Considering\\nthis insight, we propose a novel multi-view multi-task (MVMT) learning\\nframework for MTS forecasting. Instead of being explicitly presented in most\\nscenarios, MVMT information is deeply concealed in the MTS data, which severely\\nhinders the model from capturing it naturally. To this end, we develop two\\nkinds of basic operations, namely task-wise affine transformation and task-wise\\nnormalization, respectively. Applying these two operations with prior knowledge\\non the spatial and temporal view allows the model to adaptively extract MVMT\\ninformation while predicting. Extensive experiments on three datasets are\\nconducted to illustrate that canonical architectures can be greatly enhanced by\\nthe MVMT learning framework in terms of both effectiveness and efficiency. In\\naddition, we design rich case studies to reveal the properties of\\nrepresentations produced at different phases in the entire prediction\\nprocedure.'\n",
            "Label(s): ['cs.LG']\n",
            " \n",
            "Abstract: b\"The vision of automated driving is to increase both road safety and\\nefficiency, while offering passengers a convenient travel experience. This\\nrequires that autonomous systems correctly estimate the current traffic scene\\nand its likely evolution. In highway scenarios early recognition of cut-in\\nmaneuvers is essential for risk-aware maneuver planning. In this paper, a\\nstatistical approach is proposed, which advantageously utilizes a set of\\nprototypical lane change trajectories to realize both early maneuver detection\\nand uncertainty-aware trajectory prediction for traffic participants.\\nGeneration of prototype trajectories from real traffic data is accomplished by\\nAgglomerative Hierarchical Clustering. During clustering, the alignment of the\\ncluster prototypes to each other is optimized and the cohesion of the resulting\\nprototype is limited when two clusters merge. In the prediction stage, the\\nsimilarity of observed vehicle motion and typical lane change patterns in the\\ndata base is evaluated to construct a set of significant features for maneuver\\nclassification via Boosted Decision Trees. The future trajectory is predicted\\ncombining typical lane change realizations in a mixture model. B-splines based\\ntrajectory adaptations guarantee continuity during transition from actually\\nobserved to predicted vehicle states. Quantitative evaluation results\\ndemonstrate the proposed concept's improved performance for both maneuver and\\ntrajectory prediction compared to a previously implemented reference approach.\"\n",
            "Label(s): ['cs.LG', 'stat.ML', 'cs.RO']\n",
            " \n",
            "Abstract: b\"Recently introduced self-supervised methods for image representation learning\\nprovide on par or superior results to their fully supervised competitors, yet\\nthe corresponding efforts to explain the self-supervised approaches lag behind.\\nMotivated by this observation, we introduce a novel visual probing framework\\nfor explaining the self-supervised models by leveraging probing tasks employed\\npreviously in natural language processing. The probing tasks require knowledge\\nabout semantic relationships between image parts. Hence, we propose a\\nsystematic approach to obtain analogs of natural language in vision, such as\\nvisual words, context, and taxonomy. Our proposal is grounded in Marr's\\ncomputational theory of vision and concerns features like textures, shapes, and\\nlines. We show the effectiveness and applicability of those analogs in the\\ncontext of explaining self-supervised representations. Our key findings\\nemphasize that relations between language and vision can serve as an effective\\nyet intuitive tool for discovering how machine learning models work,\\nindependently of data modality. Our work opens a plethora of research pathways\\ntowards more explainable and transparent AI.\"\n",
            "Label(s): ['cs.CV', 'cs.LG', 'cs.AI']\n",
            " \n",
            "Abstract: b'Large-scale relational learning becomes crucial for handling the huge amounts\\nof structured data generated daily in many application domains ranging from\\ncomputational biology or information retrieval, to natural language processing.\\nIn this paper, we present a new neural network architecture designed to embed\\nmulti-relational graphs into a flexible continuous vector space in which the\\noriginal data is kept and enhanced. The network is trained to encode the\\nsemantics of these graphs in order to assign high probabilities to plausible\\ncomponents. We empirically show that it reaches competitive performance in link\\nprediction on standard datasets from the literature.'\n",
            "Label(s): ['cs.LG']\n",
            " \n"
          ]
        }
      ]
    },
    {
      "cell_type": "code",
      "source": [
        "# This code calculates the size of the vocabulary in the \"abstracts\" column of the train_df DataFrame.\n",
        "\n",
        "# Creating vocabulary with uniques words\n",
        "vocabulary = set()\n",
        "train_df[\"abstracts\"].str.lower().str.split().apply(vocabulary.update)\n",
        "vocabulary_size = len(vocabulary)\n",
        "print(vocabulary_size)"
      ],
      "metadata": {
        "colab": {
          "base_uri": "https://localhost:8080/"
        },
        "id": "II78Ia5ULgZL",
        "outputId": "c57fdc55-ef08-4caf-bfa1-0e5800220923"
      },
      "execution_count": 78,
      "outputs": [
        {
          "output_type": "stream",
          "name": "stdout",
          "text": [
            "153184\n"
          ]
        }
      ]
    },
    {
      "cell_type": "markdown",
      "source": [
        "Text Vectorization"
      ],
      "metadata": {
        "id": "ozPvzwPnLjYO"
      }
    },
    {
      "cell_type": "code",
      "source": [
        "# Initializes a TextVectorization layer\n",
        "text_vectorizer = layers.TextVectorization(max_tokens=vocabulary_size,ngrams=2,output_mode=\"tf_idf\")\n",
        "# `TextVectorization` layer needs to be adapted as per the vocabulary from our\n",
        "# training set.\n",
        "text_vectorizer.adapt(train_dataset.map(lambda text, label: text))"
      ],
      "metadata": {
        "id": "tTU5d0c9LjSF"
      },
      "execution_count": 79,
      "outputs": []
    },
    {
      "cell_type": "code",
      "source": [
        "\"\"\"\n",
        "Mapping Vectorization to Datasets: The code maps the text vectorization operation to\n",
        "each element of the training, validation, and test datasets. This ensures that the text\n",
        "data in each dataset is transformed into numerical vectors using the adapted TextVectorization layer.\n",
        "The num_parallel_calls parameter is used to parallelize the mapping process, and prefetch is\n",
        "applied to prefetch data batches\n",
        "for better performance.\n",
        "\"\"\"\n",
        "train_dataset = train_dataset.map(lambda text, label: (text_vectorizer(text), label), num_parallel_calls=auto).prefetch(auto)\n",
        "validation_dataset = validation_dataset.map(lambda text, label: (text_vectorizer(text), label), num_parallel_calls=auto).prefetch(auto)\n",
        "test_dataset = test_dataset.map(lambda text, label: (text_vectorizer(text), label), num_parallel_calls=auto).prefetch(auto)"
      ],
      "metadata": {
        "id": "dv82J0xDLpxp"
      },
      "execution_count": 80,
      "outputs": []
    },
    {
      "cell_type": "markdown",
      "source": [
        "Model Training"
      ],
      "metadata": {
        "id": "jEd4FizILsVS"
      }
    },
    {
      "cell_type": "code",
      "source": [
        "# creating shallow_mlp_model  (MLP)\n",
        "from tensorflow.keras.callbacks import EarlyStopping\n",
        "\n",
        "# Creating shallow_mlp_model (MLP) with dropout layers\n",
        "model1 = keras.Sequential([\n",
        "    # First hidden layer: 512 neurons, ReLU activation function, with dropout.\n",
        "    layers.Dense(512, activation=\"relu\"),\n",
        "    layers.Dropout(0.5),  # Adding dropout for regularization.\n",
        "\n",
        "    # Second hidden layer: 256 neurons, ReLU activation function, with dropout.\n",
        "    layers.Dense(256, activation=\"relu\"),\n",
        "    layers.Dropout(0.5),  # Adding dropout for regularization.\n",
        "\n",
        "    # Output layer: The number of neurons equals the vocabulary size (output vocabulary of the StringLookup layer), with a sigmoid activation function.\n",
        "    layers.Dense(lookup.vocabulary_size(), activation='sigmoid')\n",
        "])\n",
        "\n",
        "# Compile the model\n",
        "model1.compile(loss=\"binary_crossentropy\", optimizer='adam', metrics=['binary_accuracy'])\n",
        "\n",
        "# Add early stopping\n",
        "# Number of epochs with no improvement after which training will be stopped.\n",
        "# Restore weights from the epoch with the best value of the monitored quantity.\n",
        "early_stopping = EarlyStopping(patience=5,restore_best_weights=True)\n",
        "\n",
        "# Train the model\n",
        "# Add early stopping callback.verbose=1\n",
        "history = model1.fit(train_dataset,validation_data=validation_dataset,epochs=20,callbacks=[early_stopping])"
      ],
      "metadata": {
        "colab": {
          "base_uri": "https://localhost:8080/"
        },
        "id": "uoWuoS5eLsPc",
        "outputId": "836efea0-12b8-40f2-8207-06b1bb38abdc"
      },
      "execution_count": 81,
      "outputs": [
        {
          "output_type": "stream",
          "name": "stdout",
          "text": [
            "Epoch 1/20\n",
            "258/258 [==============================] - 86s 329ms/step - loss: 0.0519 - binary_accuracy: 0.9819 - val_loss: 0.0190 - val_binary_accuracy: 0.9943\n",
            "Epoch 2/20\n",
            "258/258 [==============================] - 85s 329ms/step - loss: 0.0184 - binary_accuracy: 0.9947 - val_loss: 0.0181 - val_binary_accuracy: 0.9944\n",
            "Epoch 3/20\n",
            "258/258 [==============================] - 85s 330ms/step - loss: 0.0143 - binary_accuracy: 0.9957 - val_loss: 0.0191 - val_binary_accuracy: 0.9944\n",
            "Epoch 4/20\n",
            "258/258 [==============================] - 85s 329ms/step - loss: 0.0118 - binary_accuracy: 0.9965 - val_loss: 0.0198 - val_binary_accuracy: 0.9943\n",
            "Epoch 5/20\n",
            "258/258 [==============================] - 85s 330ms/step - loss: 0.0101 - binary_accuracy: 0.9970 - val_loss: 0.0197 - val_binary_accuracy: 0.9944\n",
            "Epoch 6/20\n",
            "258/258 [==============================] - 85s 328ms/step - loss: 0.0088 - binary_accuracy: 0.9974 - val_loss: 0.0202 - val_binary_accuracy: 0.9943\n",
            "Epoch 7/20\n",
            "258/258 [==============================] - 86s 332ms/step - loss: 0.0080 - binary_accuracy: 0.9977 - val_loss: 0.0211 - val_binary_accuracy: 0.9944\n"
          ]
        }
      ]
    },
    {
      "cell_type": "code",
      "source": [
        "# plotting loss\n",
        "def plot_result(item):\n",
        "    plt.plot(history.history[item], label=item)\n",
        "    plt.plot(history.history[\"val_\" + item], label=\"val_\" + item)\n",
        "    plt.xlabel(\"Epochs\")\n",
        "    plt.ylabel(item)\n",
        "    plt.title(\"Train and Validation {} Over Epochs\".format(item), fontsize=14)\n",
        "    plt.legend()\n",
        "    plt.grid()\n",
        "    plt.show()\n",
        "\n",
        "\n",
        "plot_result(\"loss\")\n",
        "plot_result(\"binary_accuracy\")"
      ],
      "metadata": {
        "colab": {
          "base_uri": "https://localhost:8080/",
          "height": 929
        },
        "id": "P-KR0EiiMN_e",
        "outputId": "43b371fd-1e97-4469-dcaf-8ab558a7bcb7"
      },
      "execution_count": 82,
      "outputs": [
        {
          "output_type": "display_data",
          "data": {
            "text/plain": [
              "<Figure size 640x480 with 1 Axes>"
            ],
            "image/png": "[encoded data removed]"
          },
          "metadata": {}
        },
        {
          "output_type": "display_data",
          "data": {
            "text/plain": [
              "<Figure size 640x480 with 1 Axes>"
            ],
            "image/png": "[encoded data removed]"
          },
          "metadata": {}
        }
      ]
    },
    {
      "cell_type": "markdown",
      "source": [
        "Model Evaluation"
      ],
      "metadata": {
        "id": "hPTZzpGoMbIG"
      }
    },
    {
      "cell_type": "code",
      "source": [
        "# model evaltuation on test and val dataset\n",
        "_, binary_acc1 = model1.evaluate(test_dataset)\n",
        "_, binary_acc2 = model1.evaluate(validation_dataset)\n",
        "\n",
        "print(f\"Categorical accuracy on the test set: {round(binary_acc1 * 100, 2)}%.\")\n",
        "print(f\"Categorical accuracy on the validation set: {round(binary_acc2 * 100, 2)}%.\")"
      ],
      "metadata": {
        "colab": {
          "base_uri": "https://localhost:8080/"
        },
        "id": "Qf3PklEeMbDR",
        "outputId": "8ab393a6-abcf-4687-d42c-bef666d5621a"
      },
      "execution_count": 83,
      "outputs": [
        {
          "output_type": "stream",
          "name": "stdout",
          "text": [
            "15/15 [==============================] - 1s 34ms/step - loss: 0.0195 - binary_accuracy: 0.9942\n",
            "15/15 [==============================] - 1s 33ms/step - loss: 0.0181 - binary_accuracy: 0.9944\n",
            "Categorical accuracy on the test set: 99.42%.\n",
            "Categorical accuracy on the validation set: 99.44%.\n"
          ]
        }
      ]
    },
    {
      "cell_type": "markdown",
      "source": [
        "Metrics"
      ],
      "metadata": {
        "id": "iExykexQMmDr"
      }
    },
    {
      "cell_type": "code",
      "source": [
        "from sklearn.metrics import precision_score, recall_score, f1_score, roc_auc_score, classification_report\n"
      ],
      "metadata": {
        "id": "yRFjzxRVMh2E"
      },
      "execution_count": 85,
      "outputs": []
    },
    {
      "cell_type": "code",
      "source": [
        "from sklearn.metrics import precision_score, recall_score, f1_score, roc_auc_score, classification_report\n",
        "import numpy as np\n",
        "\n",
        "# Assuming you already have y_test_binarized, y_pred_binary, and y_pred_prob\n",
        "\n",
        "# Check the shapes of y_test_binarized and predictions\n",
        "print(f\"Shape of y_test_binarized: {y_test_binarized.shape}\")\n",
        "print(f\"Shape of y_pred_binary: {y_pred_binary.shape}\")\n",
        "print(f\"Shape of y_pred_prob: {y_pred_prob.shape}\")\n",
        "\n",
        "# Adjust shapes if necessary (handle shape mismatch)\n",
        "if len(y_pred_binary) != len(y_test_binarized):\n",
        "    print(f\"Shape mismatch detected! Adjusting y_pred_binary from {len(y_pred_binary)} to {len(y_test_binarized)}\")\n",
        "    y_pred_binary = y_pred_binary[:len(y_test_binarized)]  # Trim to match length\n",
        "\n",
        "if len(y_pred_prob) != len(y_test_binarized):\n",
        "    print(f\"Shape mismatch detected! Adjusting y_pred_prob from {len(y_pred_prob)} to {len(y_test_binarized)}\")\n",
        "    y_pred_prob = y_pred_prob[:len(y_test_binarized)]  # Trim to match length\n",
        "\n",
        "# Recalculate the metrics with adjusted predictions\n",
        "precision = precision_score(y_test_binarized, y_pred_binary, average='micro')\n",
        "recall = recall_score(y_test_binarized, y_pred_binary, average='micro')\n",
        "f1 = f1_score(y_test_binarized, y_pred_binary, average='micro')\n",
        "\n",
        "# Calculate AUC-ROC, handle cases where only one class is present\n",
        "try:\n",
        "    auc_roc = roc_auc_score(y_test_binarized, y_pred_prob)\n",
        "    print(f'AUC-ROC: {auc_roc:.4f}')\n",
        "except ValueError as e:\n",
        "    print(f\"AUC-ROC cannot be calculated: {e}\")\n",
        "\n",
        "# Print Metrics\n",
        "print(f'Precision: {precision:.4f}')\n",
        "print(f'Recall: {recall:.4f}')\n",
        "print(f'F1 Score: {f1:.4f}')\n",
        "\n",
        "# Optional: Print a detailed classification report\n",
        "print(classification_report(y_test_binarized, y_pred_binary))\n"
      ],
      "metadata": {
        "colab": {
          "base_uri": "https://localhost:8080/"
        },
        "id": "avdh20d2Mra2",
        "outputId": "4711243c-692d-4c2f-c4b3-3e14c5e0e2c9"
      },
      "execution_count": 86,
      "outputs": [
        {
          "output_type": "stream",
          "name": "stdout",
          "text": [
            "Shape of y_test_binarized: (514,)\n",
            "Shape of y_pred_binary: (514,)\n",
            "Shape of y_pred_prob: (514, 91)\n",
            "AUC-ROC cannot be calculated: multi_class must be in ('ovo', 'ovr')\n",
            "Precision: 0.9942\n",
            "Recall: 0.9942\n",
            "F1 Score: 0.9942\n",
            "                      precision    recall  f1-score   support\n",
            "\n",
            "-9223372036854775808       0.00      0.00      0.00         2\n",
            "                   0       0.99      1.00      1.00       511\n",
            "                  68       0.00      0.00      0.00         1\n",
            "\n",
            "            accuracy                           0.99       514\n",
            "           macro avg       0.33      0.33      0.33       514\n",
            "        weighted avg       0.99      0.99      0.99       514\n",
            "\n"
          ]
        },
        {
          "output_type": "stream",
          "name": "stderr",
          "text": [
            "/usr/local/lib/python3.10/dist-packages/sklearn/metrics/_classification.py:1531: UndefinedMetricWarning: Precision is ill-defined and being set to 0.0 in labels with no predicted samples. Use `zero_division` parameter to control this behavior.\n",
            "  _warn_prf(average, modifier, f\"{metric.capitalize()} is\", len(result))\n",
            "/usr/local/lib/python3.10/dist-packages/sklearn/metrics/_classification.py:1531: UndefinedMetricWarning: Precision is ill-defined and being set to 0.0 in labels with no predicted samples. Use `zero_division` parameter to control this behavior.\n",
            "  _warn_prf(average, modifier, f\"{metric.capitalize()} is\", len(result))\n",
            "/usr/local/lib/python3.10/dist-packages/sklearn/metrics/_classification.py:1531: UndefinedMetricWarning: Precision is ill-defined and being set to 0.0 in labels with no predicted samples. Use `zero_division` parameter to control this behavior.\n",
            "  _warn_prf(average, modifier, f\"{metric.capitalize()} is\", len(result))\n"
          ]
        }
      ]
    },
    {
      "cell_type": "markdown",
      "source": [
        "Save Model and Text Vectorizer:"
      ],
      "metadata": {
        "id": "GnXKjK-9Rhww"
      }
    },
    {
      "cell_type": "code",
      "source": [
        "# Save the model\n",
        "model1.save(\"/content/drive/MyDrive/RESEARCH - LSTM/file location lstm\")\n",
        "\n",
        "# Import the pickle module\n",
        "import pickle\n",
        "\n",
        "# Save the configuration of the text vectorizer\n",
        "saved_text_vectorizer_config = text_vectorizer.get_config()\n",
        "with open(\"/content/drive/MyDrive/RESEARCH - LSTM/file location lstm/text_vectorizer_config.pkl\", \"wb\") as f:\n",
        "    pickle.dump(saved_text_vectorizer_config, f)\n",
        "\n",
        "\n",
        "# Save the vocabulary\n",
        "with open(\"/content/drive/MyDrive/RESEARCH - LSTM/file location lstm/vocab.pkl\", \"wb\") as f:\n",
        "    pickle.dump(vocab, f)"
      ],
      "metadata": {
        "id": "DA2IoyKzRhmD"
      },
      "execution_count": 89,
      "outputs": []
    },
    {
      "cell_type": "code",
      "source": [
        "# Load the vocabulary\n",
        "with open(\"/content/drive/MyDrive/RESEARCH - LSTM/file location lstm/vocab.pkl\", \"rb\") as f:\n",
        "    loaded_vocab = pickle.load(f)"
      ],
      "metadata": {
        "id": "HHVAywspUvJl"
      },
      "execution_count": 90,
      "outputs": []
    }
  ]
}